{
 "cells": [
  {
   "cell_type": "markdown",
   "id": "a0f2fd6d-f8fd-43c9-a2c6-8b66038b69a4",
   "metadata": {},
   "source": [
    "## Python at the EPA\n",
    "- Installing\n",
    "- Pip or conda?\n",
    "- Using instead of / along with Python\n",
    "- Tips and Tricks"
   ]
  },
  {
   "cell_type": "markdown",
   "id": "7f4f5ef9-1192-4b1b-917d-fa35a6a344ed",
   "metadata": {},
   "source": [
    "### Installing\n",
    "- If you're using pure Python and array of libraries on PyPI, just request a version of Python through software center Freeware / Shareware request\n",
    "  \n",
    "- If you're working on projects using multiple languages, different versions of Python, or multiple dependencies, you may want to use conda (this is what I use)\n",
    "    \n",
    "    -  OMS doesn't like conda though\n",
    "    \n",
    "    - you may have a struggle on your hands getting miniforge or mambaforge installed\n",
    "    \n",
    "    - [Anaconda](https://www.anaconda.com/) is not an option currently due to their licensing agreements - in essense, we can't use packages from the Anaconda 'repository' - hopefully at some point we get an agency license for Anaconda"
   ]
  },
  {
   "cell_type": "markdown",
   "id": "6b56485d-4b3c-4df8-8d8e-85eae5ab4d6f",
   "metadata": {},
   "source": [
    "## Python in the cloud\n",
    "\n",
    "- It's easy to spin up Python environments and notebooks in [DMAP](https://work.epa.gov/data-science/dmap-portal) using [Sagemaker](https://portal.dmap-stage.aws.epa.gov/api/sagemakerurl_start) and put use AWS CLI to move content up to personal cloud storage in S3 buckets in DMAP\n",
    "\n",
    "- You can also spin up Python environments easily using [Binder](https://mybinder.readthedocs.io/en/latest/) or [Colab](https://colab.research.google.com/) for instance"
   ]
  },
  {
   "cell_type": "markdown",
   "id": "fa174705-c4cd-45bd-82ae-7a83f96aabf1",
   "metadata": {},
   "source": [
    "#### Example with HyRiver"
   ]
  },
  {
   "cell_type": "code",
   "execution_count": 1,
   "id": "efd28a74-38ef-4c76-b817-9166791c9f97",
   "metadata": {},
   "outputs": [
    {
     "data": {
      "text/html": [
       "\n",
       "        <iframe\n",
       "            width=\"700\"\n",
       "            height=\"350\"\n",
       "            src=\"https://docs.hyriver.io/readme/pynhd.html\"\n",
       "            frameborder=\"0\"\n",
       "            allowfullscreen\n",
       "            \n",
       "        ></iframe>\n",
       "        "
      ],
      "text/plain": [
       "<IPython.lib.display.IFrame at 0x1f6cd04d390>"
      ]
     },
     "execution_count": 1,
     "metadata": {},
     "output_type": "execute_result"
    }
   ],
   "source": [
    "from IPython.display import IFrame\n",
    "IFrame('https://docs.hyriver.io/readme/pynhd.html', width=700, height=350)"
   ]
  },
  {
   "cell_type": "markdown",
   "id": "000013ff-2568-456b-98cc-4b17623835b9",
   "metadata": {},
   "source": [
    "#### Example with geemap"
   ]
  },
  {
   "cell_type": "code",
   "execution_count": 2,
   "id": "1bf75e8c-1840-433d-89f1-89bb1605614b",
   "metadata": {},
   "outputs": [
    {
     "data": {
      "text/html": [
       "\n",
       "        <iframe\n",
       "            width=\"700\"\n",
       "            height=\"350\"\n",
       "            src=\"https://geemap.org/\"\n",
       "            frameborder=\"0\"\n",
       "            allowfullscreen\n",
       "            \n",
       "        ></iframe>\n",
       "        "
      ],
      "text/plain": [
       "<IPython.lib.display.IFrame at 0x1f6cd04d420>"
      ]
     },
     "execution_count": 2,
     "metadata": {},
     "output_type": "execute_result"
    }
   ],
   "source": [
    "from IPython.display import IFrame\n",
    "IFrame('https://geemap.org/', width=700, height=350)"
   ]
  },
  {
   "cell_type": "code",
   "execution_count": null,
   "id": "ed5845bd-906e-4a9f-957a-dde8aefd4e55",
   "metadata": {},
   "outputs": [],
   "source": []
  }
 ],
 "metadata": {
  "kernelspec": {
   "display_name": "Python 3 (ipykernel)",
   "language": "python",
   "name": "python3"
  },
  "language_info": {
   "codemirror_mode": {
    "name": "ipython",
    "version": 3
   },
   "file_extension": ".py",
   "mimetype": "text/x-python",
   "name": "python",
   "nbconvert_exporter": "python",
   "pygments_lexer": "ipython3",
   "version": "3.10.12"
  }
 },
 "nbformat": 4,
 "nbformat_minor": 5
}
